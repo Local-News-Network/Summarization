{
  "nbformat": 4,
  "nbformat_minor": 0,
  "metadata": {
    "colab": {
      "provenance": []
    },
    "kernelspec": {
      "name": "python3",
      "display_name": "Python 3"
    },
    "language_info": {
      "name": "python"
    }
  },
  "cells": [
    {
      "cell_type": "code",
      "execution_count": 1,
      "metadata": {
        "colab": {
          "base_uri": "https://localhost:8080/"
        },
        "id": "eaElzKxqQ6bX",
        "outputId": "ac9475e1-4dee-4b9b-cd71-615a98554661"
      },
      "outputs": [
        {
          "output_type": "stream",
          "name": "stdout",
          "text": [
            "Looking in indexes: https://pypi.org/simple, https://us-python.pkg.dev/colab-wheels/public/simple/\n",
            "Collecting transformers\n",
            "  Downloading transformers-4.25.1-py3-none-any.whl (5.8 MB)\n",
            "\u001b[2K     \u001b[90m━━━━━━━━━━━━━━━━━━━━━━━━━━━━━━━━━━━━━━━━\u001b[0m \u001b[32m5.8/5.8 MB\u001b[0m \u001b[31m48.2 MB/s\u001b[0m eta \u001b[36m0:00:00\u001b[0m\n",
            "\u001b[?25hRequirement already satisfied: packaging>=20.0 in /usr/local/lib/python3.8/dist-packages (from transformers) (21.3)\n",
            "Requirement already satisfied: regex!=2019.12.17 in /usr/local/lib/python3.8/dist-packages (from transformers) (2022.6.2)\n",
            "Collecting huggingface-hub<1.0,>=0.10.0\n",
            "  Downloading huggingface_hub-0.11.1-py3-none-any.whl (182 kB)\n",
            "\u001b[2K     \u001b[90m━━━━━━━━━━━━━━━━━━━━━━━━━━━━━━━━━━━━━━\u001b[0m \u001b[32m182.4/182.4 KB\u001b[0m \u001b[31m11.6 MB/s\u001b[0m eta \u001b[36m0:00:00\u001b[0m\n",
            "\u001b[?25hRequirement already satisfied: requests in /usr/local/lib/python3.8/dist-packages (from transformers) (2.25.1)\n",
            "Requirement already satisfied: numpy>=1.17 in /usr/local/lib/python3.8/dist-packages (from transformers) (1.21.6)\n",
            "Collecting tokenizers!=0.11.3,<0.14,>=0.11.1\n",
            "  Downloading tokenizers-0.13.2-cp38-cp38-manylinux_2_17_x86_64.manylinux2014_x86_64.whl (7.6 MB)\n",
            "\u001b[2K     \u001b[90m━━━━━━━━━━━━━━━━━━━━━━━━━━━━━━━━━━━━━━━━\u001b[0m \u001b[32m7.6/7.6 MB\u001b[0m \u001b[31m18.0 MB/s\u001b[0m eta \u001b[36m0:00:00\u001b[0m\n",
            "\u001b[?25hRequirement already satisfied: tqdm>=4.27 in /usr/local/lib/python3.8/dist-packages (from transformers) (4.64.1)\n",
            "Requirement already satisfied: filelock in /usr/local/lib/python3.8/dist-packages (from transformers) (3.9.0)\n",
            "Requirement already satisfied: pyyaml>=5.1 in /usr/local/lib/python3.8/dist-packages (from transformers) (6.0)\n",
            "Requirement already satisfied: typing-extensions>=3.7.4.3 in /usr/local/lib/python3.8/dist-packages (from huggingface-hub<1.0,>=0.10.0->transformers) (4.4.0)\n",
            "Requirement already satisfied: pyparsing!=3.0.5,>=2.0.2 in /usr/local/lib/python3.8/dist-packages (from packaging>=20.0->transformers) (3.0.9)\n",
            "Requirement already satisfied: urllib3<1.27,>=1.21.1 in /usr/local/lib/python3.8/dist-packages (from requests->transformers) (1.24.3)\n",
            "Requirement already satisfied: certifi>=2017.4.17 in /usr/local/lib/python3.8/dist-packages (from requests->transformers) (2022.12.7)\n",
            "Requirement already satisfied: chardet<5,>=3.0.2 in /usr/local/lib/python3.8/dist-packages (from requests->transformers) (4.0.0)\n",
            "Requirement already satisfied: idna<3,>=2.5 in /usr/local/lib/python3.8/dist-packages (from requests->transformers) (2.10)\n",
            "Installing collected packages: tokenizers, huggingface-hub, transformers\n",
            "Successfully installed huggingface-hub-0.11.1 tokenizers-0.13.2 transformers-4.25.1\n"
          ]
        }
      ],
      "source": [
        "!pip install transformers"
      ]
    },
    {
      "cell_type": "code",
      "source": [
        "!pip install sentencepiece"
      ],
      "metadata": {
        "colab": {
          "base_uri": "https://localhost:8080/"
        },
        "id": "3Jfh4wKcRHAz",
        "outputId": "26c03996-9e9c-46fc-f76f-303a3e61ef6d"
      },
      "execution_count": 2,
      "outputs": [
        {
          "output_type": "stream",
          "name": "stdout",
          "text": [
            "Looking in indexes: https://pypi.org/simple, https://us-python.pkg.dev/colab-wheels/public/simple/\n",
            "Collecting sentencepiece\n",
            "  Downloading sentencepiece-0.1.97-cp38-cp38-manylinux_2_17_x86_64.manylinux2014_x86_64.whl (1.3 MB)\n",
            "\u001b[2K     \u001b[90m━━━━━━━━━━━━━━━━━━━━━━━━━━━━━━━━━━━━━━━━\u001b[0m \u001b[32m1.3/1.3 MB\u001b[0m \u001b[31m50.3 MB/s\u001b[0m eta \u001b[36m0:00:00\u001b[0m\n",
            "\u001b[?25hInstalling collected packages: sentencepiece\n",
            "Successfully installed sentencepiece-0.1.97\n"
          ]
        }
      ]
    },
    {
      "cell_type": "code",
      "source": [
        "from transformers import AutoTokenizer, AutoModelForSeq2SeqLM\n",
        "\n",
        "tokenizer = AutoTokenizer.from_pretrained(\"google/pegasus-cnn_dailymail\")\n",
        "\n",
        "model = AutoModelForSeq2SeqLM.from_pretrained(\"google/pegasus-cnn_dailymail\")"
      ],
      "metadata": {
        "id": "aJwoo6uuRH7p"
      },
      "execution_count": 44,
      "outputs": []
    },
    {
      "cell_type": "code",
      "source": [
        "sample_text = \"The founder and head of Wagner, Yevgeny Prigozhin, posted a video Saturday claiming he visited Soledar after it was taken over by his mercenaries in two weeks. Kyiv has disputed Wagner's claim that it now controls the small town, which holds significant symbolic value but is not considered strategically pivotal. The town has also caused infighting between Prigozhin's private forces and Russia's Defense Ministry over who deserves credit for the assault. In the video, the Wagner mercenary leader said he came to town to award medals to his fighters — who he says were almost exclusively responsible for capturing Soledar. The video shows Prigozhin standing with a man who he calls “a commander who helped to take over Soledar.\""
      ],
      "metadata": {
        "id": "PSRLj8pORqM4"
      },
      "execution_count": 46,
      "outputs": []
    },
    {
      "cell_type": "code",
      "source": [
        "# create token - number representation of our text\n",
        "tokens = tokenizer(sample_text, truncation=True, padding=\"longest\", return_tensors=\"pt\")"
      ],
      "metadata": {
        "id": "-yYZVO7MSVSK"
      },
      "execution_count": 47,
      "outputs": []
    },
    {
      "cell_type": "code",
      "source": [
        "tokens"
      ],
      "metadata": {
        "colab": {
          "base_uri": "https://localhost:8080/"
        },
        "id": "G0YGqiszSrlS",
        "outputId": "84711b49-c655-4a5d-9a59-8241487845d4"
      },
      "execution_count": 54,
      "outputs": [
        {
          "output_type": "execute_result",
          "data": {
            "text/plain": [
              "{'input_ids': tensor([[  139,  4252,   111,   693,   113, 20439,   108,  2604, 11933,  6317,\n",
              "           415, 20204,  2967, 28676,   386,   108,  1155,   114,   545,  1327,\n",
              "          8085,   178,  3333, 23893, 11030,   244,   126,   140,   784,   204,\n",
              "           141,   169, 71842,   115,   228,   899,   107, 46675,   148, 26847,\n",
              "         20439,   131,   116,  1844,   120,   126,   239,  4127,   109,   360,\n",
              "          1120,   108,   162,  2758,  1225, 14967,   564,   155,   117,   146,\n",
              "          1341, 13882, 17292,   107,   139,  1120,   148,   163,  2145,   115,\n",
              "         25948,   317, 20204,  2967, 28676,   386,   131,   116,   808,  3062,\n",
              "           111,  3260,   131,   116,  7660,  4674,   204,   170,  8068,   910,\n",
              "           118,   109,  8171,   107,   222,   109,   545,   108,   109, 20439,\n",
              "         71339,  1919,   243,   178,   642,   112,  1120,   112,  1818, 15643,\n",
              "           112,   169, 12760,   492,   170,   178,   649,   195,   744,  5414,\n",
              "          1470,   118,  9649, 23893, 11030,   107,   139,   545,   939, 20204,\n",
              "          2967, 28676,   386,  2716,   122,   114,   729,   170,   178,  2101,\n",
              "           185,   304, 15674,   170,  1543,   112,   248,   204, 23893, 11030,\n",
              "           107,     1]]), 'attention_mask': tensor([[1, 1, 1, 1, 1, 1, 1, 1, 1, 1, 1, 1, 1, 1, 1, 1, 1, 1, 1, 1, 1, 1, 1, 1,\n",
              "         1, 1, 1, 1, 1, 1, 1, 1, 1, 1, 1, 1, 1, 1, 1, 1, 1, 1, 1, 1, 1, 1, 1, 1,\n",
              "         1, 1, 1, 1, 1, 1, 1, 1, 1, 1, 1, 1, 1, 1, 1, 1, 1, 1, 1, 1, 1, 1, 1, 1,\n",
              "         1, 1, 1, 1, 1, 1, 1, 1, 1, 1, 1, 1, 1, 1, 1, 1, 1, 1, 1, 1, 1, 1, 1, 1,\n",
              "         1, 1, 1, 1, 1, 1, 1, 1, 1, 1, 1, 1, 1, 1, 1, 1, 1, 1, 1, 1, 1, 1, 1, 1,\n",
              "         1, 1, 1, 1, 1, 1, 1, 1, 1, 1, 1, 1, 1, 1, 1, 1, 1, 1, 1, 1, 1, 1, 1, 1,\n",
              "         1, 1, 1, 1, 1, 1, 1, 1]])}"
            ]
          },
          "metadata": {},
          "execution_count": 54
        }
      ]
    },
    {
      "cell_type": "code",
      "source": [
        "# Summarize\n",
        "summary = model.generate(**tokens)"
      ],
      "metadata": {
        "id": "ycwXN9l9SrxQ"
      },
      "execution_count": 49,
      "outputs": []
    },
    {
      "cell_type": "code",
      "source": [
        "{**tokens}"
      ],
      "metadata": {
        "colab": {
          "base_uri": "https://localhost:8080/"
        },
        "id": "RmUPl_uHTF0-",
        "outputId": "f489b669-e1f2-4cc4-c8a4-bb6e58a0abd9"
      },
      "execution_count": 50,
      "outputs": [
        {
          "output_type": "execute_result",
          "data": {
            "text/plain": [
              "{'input_ids': tensor([[  139,  4252,   111,   693,   113, 20439,   108,  2604, 11933,  6317,\n",
              "            415, 20204,  2967, 28676,   386,   108,  1155,   114,   545,  1327,\n",
              "           8085,   178,  3333, 23893, 11030,   244,   126,   140,   784,   204,\n",
              "            141,   169, 71842,   115,   228,   899,   107, 46675,   148, 26847,\n",
              "          20439,   131,   116,  1844,   120,   126,   239,  4127,   109,   360,\n",
              "           1120,   108,   162,  2758,  1225, 14967,   564,   155,   117,   146,\n",
              "           1341, 13882, 17292,   107,   139,  1120,   148,   163,  2145,   115,\n",
              "          25948,   317, 20204,  2967, 28676,   386,   131,   116,   808,  3062,\n",
              "            111,  3260,   131,   116,  7660,  4674,   204,   170,  8068,   910,\n",
              "            118,   109,  8171,   107,   222,   109,   545,   108,   109, 20439,\n",
              "          71339,  1919,   243,   178,   642,   112,  1120,   112,  1818, 15643,\n",
              "            112,   169, 12760,   492,   170,   178,   649,   195,   744,  5414,\n",
              "           1470,   118,  9649, 23893, 11030,   107,   139,   545,   939, 20204,\n",
              "           2967, 28676,   386,  2716,   122,   114,   729,   170,   178,  2101,\n",
              "            185,   304, 15674,   170,  1543,   112,   248,   204, 23893, 11030,\n",
              "            107,     1]]),\n",
              " 'attention_mask': tensor([[1, 1, 1, 1, 1, 1, 1, 1, 1, 1, 1, 1, 1, 1, 1, 1, 1, 1, 1, 1, 1, 1, 1, 1,\n",
              "          1, 1, 1, 1, 1, 1, 1, 1, 1, 1, 1, 1, 1, 1, 1, 1, 1, 1, 1, 1, 1, 1, 1, 1,\n",
              "          1, 1, 1, 1, 1, 1, 1, 1, 1, 1, 1, 1, 1, 1, 1, 1, 1, 1, 1, 1, 1, 1, 1, 1,\n",
              "          1, 1, 1, 1, 1, 1, 1, 1, 1, 1, 1, 1, 1, 1, 1, 1, 1, 1, 1, 1, 1, 1, 1, 1,\n",
              "          1, 1, 1, 1, 1, 1, 1, 1, 1, 1, 1, 1, 1, 1, 1, 1, 1, 1, 1, 1, 1, 1, 1, 1,\n",
              "          1, 1, 1, 1, 1, 1, 1, 1, 1, 1, 1, 1, 1, 1, 1, 1, 1, 1, 1, 1, 1, 1, 1, 1,\n",
              "          1, 1, 1, 1, 1, 1, 1, 1]])}"
            ]
          },
          "metadata": {},
          "execution_count": 50
        }
      ]
    },
    {
      "cell_type": "code",
      "source": [
        "summary"
      ],
      "metadata": {
        "colab": {
          "base_uri": "https://localhost:8080/"
        },
        "id": "MCQDuNRGTNQ_",
        "outputId": "1ff0482e-6e03-4cdc-b91e-131e3658284a"
      },
      "execution_count": 51,
      "outputs": [
        {
          "output_type": "execute_result",
          "data": {
            "text/plain": [
              "tensor([[    0,   139,  4252,   111,   693,   113, 20439,   108,  2604, 11933,\n",
              "          6317,   415, 20204,  2967, 28676,   386,   108,  1155,   114,   545,\n",
              "          1327,  8085,   178,  3333, 23893, 11030,   244,   126,   140,   784,\n",
              "           204,   141,   169, 71842,   115,   228,   899,   110,   107,   106,\n",
              "           159,  1120,   148,   163,  2145,   115, 25948,   317, 20204,  2967,\n",
              "         28676,   386,   131,   116,   808,  3062,   111,  3260,   131,   116,\n",
              "          7660,  4674,   204,   170,  8068,   910,   118,   109,  8171,   110,\n",
              "           107,     1]])"
            ]
          },
          "metadata": {},
          "execution_count": 51
        }
      ]
    },
    {
      "cell_type": "code",
      "source": [
        "tokenizer.decode(summary[0])"
      ],
      "metadata": {
        "colab": {
          "base_uri": "https://localhost:8080/",
          "height": 53
        },
        "id": "Q_8n0aUbTPQo",
        "outputId": "13b25a5d-86d1-42bb-f83e-a5fbd3a95bd7"
      },
      "execution_count": 52,
      "outputs": [
        {
          "output_type": "execute_result",
          "data": {
            "text/plain": [
              "\"<pad> The founder and head of Wagner, Yevgeny Prigozhin, posted a video Saturday claiming he visited Soledar after it was taken over by his mercenaries in two weeks.<n>The town has also caused infighting between Prigozhin's private forces and Russia's Defense Ministry over who deserves credit for the assault.</s>\""
            ],
            "application/vnd.google.colaboratory.intrinsic+json": {
              "type": "string"
            }
          },
          "metadata": {},
          "execution_count": 52
        }
      ]
    }
  ]
}